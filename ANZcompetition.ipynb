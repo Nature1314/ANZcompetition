{
 "cells": [
  {
   "cell_type": "code",
   "execution_count": 3,
   "metadata": {},
   "outputs": [],
   "source": [
    "import numpy as np\n",
    "import pandas as pd\n",
    "import scipy\n",
    "import random\n",
    "import time\n",
    "import os"
   ]
  },
  {
   "cell_type": "markdown",
   "metadata": {},
   "source": [
    "# Part 1"
   ]
  },
  {
   "cell_type": "code",
   "execution_count": 2,
   "metadata": {},
   "outputs": [
    {
     "data": {
      "text/html": [
       "<div>\n",
       "<style scoped>\n",
       "    .dataframe tbody tr th:only-of-type {\n",
       "        vertical-align: middle;\n",
       "    }\n",
       "\n",
       "    .dataframe tbody tr th {\n",
       "        vertical-align: top;\n",
       "    }\n",
       "\n",
       "    .dataframe thead th {\n",
       "        text-align: right;\n",
       "    }\n",
       "</style>\n",
       "<table border=\"1\" class=\"dataframe\">\n",
       "  <thead>\n",
       "    <tr style=\"text-align: right;\">\n",
       "      <th></th>\n",
       "      <th>age</th>\n",
       "      <th>job</th>\n",
       "      <th>marital</th>\n",
       "      <th>education</th>\n",
       "      <th>default</th>\n",
       "      <th>housing</th>\n",
       "      <th>loan</th>\n",
       "      <th>contact</th>\n",
       "      <th>month</th>\n",
       "      <th>day_of_week</th>\n",
       "      <th>...</th>\n",
       "      <th>campaign</th>\n",
       "      <th>pdays</th>\n",
       "      <th>previous</th>\n",
       "      <th>poutcome</th>\n",
       "      <th>emp.var.rate</th>\n",
       "      <th>cons.price.idx</th>\n",
       "      <th>cons.conf.idx</th>\n",
       "      <th>euribor3m</th>\n",
       "      <th>nr.employed</th>\n",
       "      <th>y</th>\n",
       "    </tr>\n",
       "  </thead>\n",
       "  <tbody>\n",
       "    <tr>\n",
       "      <th>0</th>\n",
       "      <td>32</td>\n",
       "      <td>management</td>\n",
       "      <td>married</td>\n",
       "      <td>professional.course</td>\n",
       "      <td>unknown</td>\n",
       "      <td>no</td>\n",
       "      <td>no</td>\n",
       "      <td>cellular</td>\n",
       "      <td>jul</td>\n",
       "      <td>mon</td>\n",
       "      <td>...</td>\n",
       "      <td>4</td>\n",
       "      <td>999</td>\n",
       "      <td>0</td>\n",
       "      <td>nonexistent</td>\n",
       "      <td>1.4</td>\n",
       "      <td>93.918</td>\n",
       "      <td>-42.7</td>\n",
       "      <td>4.962</td>\n",
       "      <td>5228.1</td>\n",
       "      <td>no</td>\n",
       "    </tr>\n",
       "    <tr>\n",
       "      <th>1</th>\n",
       "      <td>41</td>\n",
       "      <td>admin.</td>\n",
       "      <td>married</td>\n",
       "      <td>high.school</td>\n",
       "      <td>no</td>\n",
       "      <td>yes</td>\n",
       "      <td>yes</td>\n",
       "      <td>cellular</td>\n",
       "      <td>apr</td>\n",
       "      <td>mon</td>\n",
       "      <td>...</td>\n",
       "      <td>1</td>\n",
       "      <td>999</td>\n",
       "      <td>0</td>\n",
       "      <td>nonexistent</td>\n",
       "      <td>-1.8</td>\n",
       "      <td>93.075</td>\n",
       "      <td>-47.1</td>\n",
       "      <td>1.405</td>\n",
       "      <td>5099.1</td>\n",
       "      <td>no</td>\n",
       "    </tr>\n",
       "    <tr>\n",
       "      <th>2</th>\n",
       "      <td>32</td>\n",
       "      <td>admin.</td>\n",
       "      <td>married</td>\n",
       "      <td>university.degree</td>\n",
       "      <td>no</td>\n",
       "      <td>yes</td>\n",
       "      <td>no</td>\n",
       "      <td>cellular</td>\n",
       "      <td>may</td>\n",
       "      <td>mon</td>\n",
       "      <td>...</td>\n",
       "      <td>2</td>\n",
       "      <td>999</td>\n",
       "      <td>0</td>\n",
       "      <td>nonexistent</td>\n",
       "      <td>-1.8</td>\n",
       "      <td>92.893</td>\n",
       "      <td>-46.2</td>\n",
       "      <td>1.299</td>\n",
       "      <td>5099.1</td>\n",
       "      <td>no</td>\n",
       "    </tr>\n",
       "    <tr>\n",
       "      <th>3</th>\n",
       "      <td>37</td>\n",
       "      <td>admin.</td>\n",
       "      <td>married</td>\n",
       "      <td>high.school</td>\n",
       "      <td>no</td>\n",
       "      <td>unknown</td>\n",
       "      <td>unknown</td>\n",
       "      <td>cellular</td>\n",
       "      <td>jul</td>\n",
       "      <td>thu</td>\n",
       "      <td>...</td>\n",
       "      <td>3</td>\n",
       "      <td>999</td>\n",
       "      <td>0</td>\n",
       "      <td>nonexistent</td>\n",
       "      <td>1.4</td>\n",
       "      <td>93.918</td>\n",
       "      <td>-42.7</td>\n",
       "      <td>4.968</td>\n",
       "      <td>5228.1</td>\n",
       "      <td>no</td>\n",
       "    </tr>\n",
       "    <tr>\n",
       "      <th>4</th>\n",
       "      <td>38</td>\n",
       "      <td>admin.</td>\n",
       "      <td>divorced</td>\n",
       "      <td>university.degree</td>\n",
       "      <td>no</td>\n",
       "      <td>no</td>\n",
       "      <td>no</td>\n",
       "      <td>cellular</td>\n",
       "      <td>jul</td>\n",
       "      <td>tue</td>\n",
       "      <td>...</td>\n",
       "      <td>8</td>\n",
       "      <td>999</td>\n",
       "      <td>0</td>\n",
       "      <td>nonexistent</td>\n",
       "      <td>1.4</td>\n",
       "      <td>93.918</td>\n",
       "      <td>-42.7</td>\n",
       "      <td>4.961</td>\n",
       "      <td>5228.1</td>\n",
       "      <td>no</td>\n",
       "    </tr>\n",
       "  </tbody>\n",
       "</table>\n",
       "<p>5 rows × 21 columns</p>\n",
       "</div>"
      ],
      "text/plain": [
       "   age         job   marital            education  default  housing     loan  \\\n",
       "0   32  management   married  professional.course  unknown       no       no   \n",
       "1   41      admin.   married          high.school       no      yes      yes   \n",
       "2   32      admin.   married    university.degree       no      yes       no   \n",
       "3   37      admin.   married          high.school       no  unknown  unknown   \n",
       "4   38      admin.  divorced    university.degree       no       no       no   \n",
       "\n",
       "    contact month day_of_week ...  campaign  pdays  previous     poutcome  \\\n",
       "0  cellular   jul         mon ...         4    999         0  nonexistent   \n",
       "1  cellular   apr         mon ...         1    999         0  nonexistent   \n",
       "2  cellular   may         mon ...         2    999         0  nonexistent   \n",
       "3  cellular   jul         thu ...         3    999         0  nonexistent   \n",
       "4  cellular   jul         tue ...         8    999         0  nonexistent   \n",
       "\n",
       "  emp.var.rate  cons.price.idx  cons.conf.idx  euribor3m  nr.employed   y  \n",
       "0          1.4          93.918          -42.7      4.962       5228.1  no  \n",
       "1         -1.8          93.075          -47.1      1.405       5099.1  no  \n",
       "2         -1.8          92.893          -46.2      1.299       5099.1  no  \n",
       "3          1.4          93.918          -42.7      4.968       5228.1  no  \n",
       "4          1.4          93.918          -42.7      4.961       5228.1  no  \n",
       "\n",
       "[5 rows x 21 columns]"
      ]
     },
     "execution_count": 2,
     "metadata": {},
     "output_type": "execute_result"
    }
   ],
   "source": [
    "raw_train_data = pd.read_csv(\"bank-additional-train.csv\",delimiter=\",\", encoding=\"utf-8-sig\")\n",
    "raw_train_data.head()"
   ]
  },
  {
   "cell_type": "code",
   "execution_count": 3,
   "metadata": {
    "scrolled": true
   },
   "outputs": [
    {
     "name": "stdout",
     "output_type": "stream",
     "text": [
      "31    1744\n",
      "32    1663\n",
      "33    1629\n",
      "36    1605\n",
      "35    1570\n",
      "34    1558\n",
      "30    1550\n",
      "37    1335\n",
      "29    1301\n",
      "39    1285\n",
      "Name: age, dtype: int64\n",
      "admin.           9380\n",
      "blue-collar      8331\n",
      "technician       6075\n",
      "services         3553\n",
      "management       2646\n",
      "retired          1536\n",
      "entrepreneur     1325\n",
      "self-employed    1276\n",
      "housemaid         967\n",
      "unemployed        906\n",
      "Name: job, dtype: int64\n",
      "married     22426\n",
      "single      10410\n",
      "divorced     4159\n",
      "unknown        74\n",
      "Name: marital, dtype: int64\n",
      "university.degree      10931\n",
      "high.school             8555\n",
      "basic.9y                5449\n",
      "professional.course     4709\n",
      "basic.4y                3790\n",
      "basic.6y                2060\n",
      "unknown                 1559\n",
      "illiterate                16\n",
      "Name: education, dtype: int64\n",
      "no         29301\n",
      "unknown     7767\n",
      "yes            1\n",
      "Name: default, dtype: int64\n",
      "yes        19447\n",
      "no         16753\n",
      "unknown      869\n",
      "Name: housing, dtype: int64\n",
      "no         30595\n",
      "yes         5605\n",
      "unknown      869\n",
      "Name: loan, dtype: int64\n",
      "cellular     23506\n",
      "telephone    13563\n",
      "Name: contact, dtype: int64\n",
      "may    12351\n",
      "jul     6474\n",
      "aug     5576\n",
      "jun     4787\n",
      "nov     3701\n",
      "apr     2379\n",
      "oct      632\n",
      "sep      509\n",
      "mar      499\n",
      "dec      161\n",
      "Name: month, dtype: int64\n",
      "thu    7757\n",
      "mon    7673\n",
      "wed    7340\n",
      "tue    7269\n",
      "fri    7030\n",
      "Name: day_of_week, dtype: int64\n",
      "90     155\n",
      "85     153\n",
      "73     153\n",
      "87     152\n",
      "104    149\n",
      "124    148\n",
      "125    148\n",
      "89     147\n",
      "109    145\n",
      "136    145\n",
      "Name: duration, dtype: int64\n",
      "1     15873\n",
      "2      9495\n",
      "3      4836\n",
      "4      2375\n",
      "5      1435\n",
      "6       868\n",
      "7       567\n",
      "8       369\n",
      "9       250\n",
      "10      196\n",
      "Name: campaign, dtype: int64\n",
      "999    35708\n",
      "3        389\n",
      "6        367\n",
      "4        106\n",
      "9         58\n",
      "7         55\n",
      "2         53\n",
      "12        52\n",
      "5         44\n",
      "10        44\n",
      "Name: pdays, dtype: int64\n",
      "0    32018\n",
      "1     4094\n",
      "2      676\n",
      "3      200\n",
      "4       60\n",
      "5       16\n",
      "6        4\n",
      "7        1\n",
      "Name: previous, dtype: int64\n",
      "nonexistent    32018\n",
      "failure         3820\n",
      "success         1231\n",
      "Name: poutcome, dtype: int64\n",
      " 1.4    14645\n",
      "-1.8     8266\n",
      " 1.1     6963\n",
      "-0.1     3315\n",
      "-2.9     1503\n",
      "-3.4      965\n",
      "-1.7      689\n",
      "-1.1      562\n",
      "-3.0      151\n",
      "-0.2       10\n",
      "Name: emp.var.rate, dtype: int64\n",
      "93.994    6963\n",
      "93.918    6032\n",
      "92.893    5198\n",
      "93.444    4662\n",
      "94.465    3951\n",
      "93.200    3263\n",
      "93.075    2222\n",
      "92.201     706\n",
      "92.963     634\n",
      "92.431     402\n",
      "Name: cons.price.idx, dtype: int64\n",
      "-36.4    6963\n",
      "-42.7    6032\n",
      "-46.2    5198\n",
      "-36.1    4662\n",
      "-41.8    3951\n",
      "-42.0    3263\n",
      "-47.1    2222\n",
      "-31.4     706\n",
      "-40.8     634\n",
      "-26.9     402\n",
      "Name: cons.conf.idx, dtype: int64\n",
      "4.857    2585\n",
      "4.962    2354\n",
      "4.963    2230\n",
      "4.961    1701\n",
      "4.856    1089\n",
      "4.964    1060\n",
      "1.405    1050\n",
      "4.965     964\n",
      "4.864     952\n",
      "4.960     921\n",
      "Name: euribor3m, dtype: int64\n",
      "5228.1    14645\n",
      "5099.1     7679\n",
      "5191.0     6963\n",
      "5195.8     3315\n",
      "5076.2     1503\n",
      "5017.5      965\n",
      "4991.6      689\n",
      "5008.7      587\n",
      "4963.6      562\n",
      "5023.5      151\n",
      "Name: nr.employed, dtype: int64\n",
      "no     32908\n",
      "yes     4161\n",
      "Name: y, dtype: int64\n"
     ]
    }
   ],
   "source": [
    "#See the details in different attributes \n",
    "for key in raw_train_data.keys():\n",
    "    print(raw_train_data[key].value_counts().head(10))"
   ]
  },
  {
   "cell_type": "code",
   "execution_count": 6,
   "metadata": {
    "scrolled": true
   },
   "outputs": [
    {
     "name": "stdout",
     "output_type": "stream",
     "text": [
      "The number of missing data in job is 296 and the proportion is 0.007985 with the keyword unknown\n",
      "The number of missing data in marital is 74 and the proportion is 0.001996 with the keyword unknown\n",
      "The number of missing data in education is 1559 and the proportion is 0.042057 with the keyword unknown\n",
      "The number of missing data in default is 7767 and the proportion is 0.209528 with the keyword unknown\n",
      "The number of missing data in housing is 869 and the proportion is 0.023443 with the keyword unknown\n",
      "The number of missing data in loan is 869 and the proportion is 0.023443 with the keyword unknown\n"
     ]
    }
   ],
   "source": [
    "missinglistName = []#For later using\n",
    "for key in raw_train_data.keys():\n",
    "    missing=0\n",
    "    keyword=''\n",
    "    value = raw_train_data[key].value_counts()\n",
    "    if 'unknown' in list(value.keys()):\n",
    "        missing = value['unknown']\n",
    "        proportion = missing / len(raw_train_data[key])\n",
    "        missinglistName.append(key)\n",
    "        print(\"The number of missing data in %s is %d and the proportion is %f with the keyword unknown\" %(key,missing,proportion))"
   ]
  },
  {
   "cell_type": "code",
   "execution_count": 23,
   "metadata": {},
   "outputs": [
    {
     "data": {
      "text/plain": [
       "['job', 'marital', 'education', 'default', 'housing', 'loan']"
      ]
     },
     "execution_count": 23,
     "metadata": {},
     "output_type": "execute_result"
    }
   ],
   "source": [
    "missinglistName"
   ]
  },
  {
   "cell_type": "code",
   "execution_count": 10,
   "metadata": {},
   "outputs": [],
   "source": [
    "#These percentage of missing data in these columns less that 1%, then we will fill them up later"
   ]
  },
  {
   "cell_type": "code",
   "execution_count": 7,
   "metadata": {},
   "outputs": [],
   "source": [
    "#Translate non-numerical data to numerical data\n",
    "def trans_non_numerical_data(df):\n",
    "    columns = df.columns.values\n",
    "    for column in columns:\n",
    "        text_digit_vals ={}\n",
    "        def convert_to_int(val):\n",
    "            return text_digit_vals[val]\n",
    "        \n",
    "        if df[column].dtype!= np.int64 and df[column].dtype!= np.float64:\n",
    "            column_contents = df[column].values.tolist()\n",
    "            unique_elements = set(column_contents)\n",
    "            x = 1\n",
    "            for unique in unique_elements:\n",
    "                if unique not in text_digit_vals:\n",
    "                    if unique != 'unknown':\n",
    "                        text_digit_vals[unique] = x\n",
    "                        x+=1\n",
    "                    else:\n",
    "                        text_digit_vals[unique] = 'unknown'\n",
    "            df[column] = list(map(convert_to_int,df[column]))\n",
    "            \n",
    "    return df"
   ]
  },
  {
   "cell_type": "code",
   "execution_count": 8,
   "metadata": {},
   "outputs": [],
   "source": [
    "raw_train_data = trans_non_numerical_data(raw_train_data)"
   ]
  },
  {
   "cell_type": "code",
   "execution_count": 9,
   "metadata": {},
   "outputs": [
    {
     "name": "stdout",
     "output_type": "stream",
     "text": [
      "31    1744\n",
      "32    1663\n",
      "33    1629\n",
      "36    1605\n",
      "35    1570\n",
      "34    1558\n",
      "30    1550\n",
      "37    1335\n",
      "29    1301\n",
      "39    1285\n",
      "Name: age, dtype: int64\n",
      "2     9380\n",
      "8     8331\n",
      "7     6075\n",
      "6     3553\n",
      "5     2646\n",
      "11    1536\n",
      "10    1325\n",
      "4     1276\n",
      "9      967\n",
      "1      906\n",
      "Name: job, dtype: int64\n",
      "1          22426\n",
      "3          10410\n",
      "2           4159\n",
      "unknown       74\n",
      "Name: marital, dtype: int64\n",
      "3          10931\n",
      "5           8555\n",
      "2           5449\n",
      "7           4709\n",
      "4           3790\n",
      "1           2060\n",
      "unknown     1559\n",
      "6             16\n",
      "Name: education, dtype: int64\n",
      "1          29301\n",
      "unknown     7767\n",
      "2              1\n",
      "Name: default, dtype: int64\n",
      "2          19447\n",
      "1          16753\n",
      "unknown      869\n",
      "Name: housing, dtype: int64\n",
      "1          30595\n",
      "2           5605\n",
      "unknown      869\n",
      "Name: loan, dtype: int64\n",
      "1    23506\n",
      "2    13563\n",
      "Name: contact, dtype: int64\n",
      "6     12351\n",
      "2      6474\n",
      "3      5576\n",
      "7      4787\n",
      "4      3701\n",
      "5      2379\n",
      "8       632\n",
      "10      509\n",
      "1       499\n",
      "9       161\n",
      "Name: month, dtype: int64\n",
      "2    7757\n",
      "5    7673\n",
      "4    7340\n",
      "3    7269\n",
      "1    7030\n",
      "Name: day_of_week, dtype: int64\n",
      "90     155\n",
      "85     153\n",
      "73     153\n",
      "87     152\n",
      "104    149\n",
      "124    148\n",
      "125    148\n",
      "89     147\n",
      "109    145\n",
      "136    145\n",
      "Name: duration, dtype: int64\n",
      "1     15873\n",
      "2      9495\n",
      "3      4836\n",
      "4      2375\n",
      "5      1435\n",
      "6       868\n",
      "7       567\n",
      "8       369\n",
      "9       250\n",
      "10      196\n",
      "Name: campaign, dtype: int64\n",
      "999    35708\n",
      "3        389\n",
      "6        367\n",
      "4        106\n",
      "9         58\n",
      "7         55\n",
      "2         53\n",
      "12        52\n",
      "5         44\n",
      "10        44\n",
      "Name: pdays, dtype: int64\n",
      "0    32018\n",
      "1     4094\n",
      "2      676\n",
      "3      200\n",
      "4       60\n",
      "5       16\n",
      "6        4\n",
      "7        1\n",
      "Name: previous, dtype: int64\n",
      "1    32018\n",
      "3     3820\n",
      "2     1231\n",
      "Name: poutcome, dtype: int64\n",
      " 1.4    14645\n",
      "-1.8     8266\n",
      " 1.1     6963\n",
      "-0.1     3315\n",
      "-2.9     1503\n",
      "-3.4      965\n",
      "-1.7      689\n",
      "-1.1      562\n",
      "-3.0      151\n",
      "-0.2       10\n",
      "Name: emp.var.rate, dtype: int64\n",
      "93.994    6963\n",
      "93.918    6032\n",
      "92.893    5198\n",
      "93.444    4662\n",
      "94.465    3951\n",
      "93.200    3263\n",
      "93.075    2222\n",
      "92.201     706\n",
      "92.963     634\n",
      "92.431     402\n",
      "Name: cons.price.idx, dtype: int64\n",
      "-36.4    6963\n",
      "-42.7    6032\n",
      "-46.2    5198\n",
      "-36.1    4662\n",
      "-41.8    3951\n",
      "-42.0    3263\n",
      "-47.1    2222\n",
      "-31.4     706\n",
      "-40.8     634\n",
      "-26.9     402\n",
      "Name: cons.conf.idx, dtype: int64\n",
      "4.857    2585\n",
      "4.962    2354\n",
      "4.963    2230\n",
      "4.961    1701\n",
      "4.856    1089\n",
      "4.964    1060\n",
      "1.405    1050\n",
      "4.965     964\n",
      "4.864     952\n",
      "4.960     921\n",
      "Name: euribor3m, dtype: int64\n",
      "5228.1    14645\n",
      "5099.1     7679\n",
      "5191.0     6963\n",
      "5195.8     3315\n",
      "5076.2     1503\n",
      "5017.5      965\n",
      "4991.6      689\n",
      "5008.7      587\n",
      "4963.6      562\n",
      "5023.5      151\n",
      "Name: nr.employed, dtype: int64\n",
      "1    32908\n",
      "2     4161\n",
      "Name: y, dtype: int64\n"
     ]
    }
   ],
   "source": [
    "for key in raw_train_data.keys():\n",
    "    print(raw_train_data[key].value_counts().head(10))"
   ]
  },
  {
   "cell_type": "code",
   "execution_count": null,
   "metadata": {},
   "outputs": [],
   "source": [
    "# Now we need to deal with the missing data, we use K-Nearest Neighbors (KNN) Imputation."
   ]
  },
  {
   "cell_type": "code",
   "execution_count": 10,
   "metadata": {},
   "outputs": [],
   "source": [
    "def dropMissing(dataset,missinglistName):\n",
    "    #Find the missing line index and put them in to a list\n",
    "    missingLine = dataset[(dataset['job']=='unknown')|(dataset['marital']=='unknown')|\\\n",
    "                          (dataset['education']=='unknown')|(dataset['default']=='unknown')|\\\n",
    "                          (dataset['housing']=='unknown')|(dataset['loan']=='unknown')]\n",
    "    missingIndex = list(missingLine.index)\n",
    "    #Create a new database without three columns with missing data for distance calculation using\n",
    "    datawithoutMissing = dataset.drop(missinglistName, axis=1)\n",
    "    return missingIndex,datawithoutMissing   "
   ]
  },
  {
   "cell_type": "code",
   "execution_count": 11,
   "metadata": {},
   "outputs": [],
   "source": [
    "missingIndex,datawithoutMissing = dropMissing(raw_train_data,missinglistName)"
   ]
  },
  {
   "cell_type": "code",
   "execution_count": 12,
   "metadata": {},
   "outputs": [],
   "source": [
    "from scipy.spatial import distance_matrix\n",
    "\"\"\"\n",
    "We calculate  for the missing line with all other complete line in this function and then find the minima distance, \n",
    "Copy the value in complete line to missing data line (in the next function) to decreace error. \n",
    "\"\"\"\n",
    "#missingIndex is all row number with missing data\n",
    "def findMinEntropy(data,missingIndex):\n",
    "    a = data.drop(missingIndex).reset_index()\n",
    "    completeIndexlist =np.asarray(a.iloc[:,0])\n",
    "    missingMatrix = np.asarray(data.loc[missingIndex]).astype(np.int64)\n",
    "    bigMatrix = np.asarray(data.drop(missingIndex)).astype(np.int64) #np.asarray(data).astype(np.int64)\n",
    "    #matrix = cosine_similarity(missingMatrix,bigMatrix.transpose())\n",
    "    matrix = scipy.spatial.distance_matrix(missingMatrix,bigMatrix)\n",
    "    indexList = []\n",
    "    print(\"finish calculate the matrix\")\n",
    "    for i in range(matrix.shape[0]):\n",
    "        index_min = np.argmin(matrix[i,:])\n",
    "        indexList.append(completeIndexlist[index_min])\n",
    "    return indexList"
   ]
  },
  {
   "cell_type": "code",
   "execution_count": 13,
   "metadata": {},
   "outputs": [
    {
     "name": "stdout",
     "output_type": "stream",
     "text": [
      "finish calculate the matrix\n"
     ]
    }
   ],
   "source": [
    "completeIndexList = findMinEntropy(datawithoutMissing,missingIndex)"
   ]
  },
  {
   "cell_type": "code",
   "execution_count": 14,
   "metadata": {},
   "outputs": [],
   "source": [
    "\"\"\"\n",
    "As last explanation said, we copy the value in completed line for the missing value in missng data line. \n",
    "\"\"\"\n",
    "def changeValue(raw_train_data,missingColList,missingIndexList,completeIndexList):\n",
    "    for i in range(len(missingIndexList)):\n",
    "        missingLineIndex = missingIndexList[i]\n",
    "        completeLineIndex = completeIndexList[i]\n",
    "        for missingCol in missingColList:\n",
    "            if raw_train_data.at[missingLineIndex,missingCol] == 'unknown':\n",
    "                value = raw_train_data.at[completeLineIndex, missingCol]#Value is used to fill\n",
    "                if value == 'unknown':\n",
    "                    print('This position updata failure. The imformation for the completed Line index is:')\n",
    "                    print('Line index is: '+ str(completeLineIndex)+ ' Column number is: ' + str(missingCol))\n",
    "                raw_train_data.at[missingLineIndex, missingCol] = int(value)\n",
    "    return raw_train_data"
   ]
  },
  {
   "cell_type": "code",
   "execution_count": 15,
   "metadata": {},
   "outputs": [],
   "source": [
    "#get the clean data\n",
    "raw_train_data =changeValue(raw_train_data,missinglistName,missingIndex,completeIndexList)"
   ]
  },
  {
   "cell_type": "code",
   "execution_count": 16,
   "metadata": {},
   "outputs": [],
   "source": [
    "#We save this data for later using whcih means we don't need to do the data Preprocess again at next time.\n",
    "raw_train_data.to_csv('clean_data.csv',sep=\",\", index = False, encoding=\"utf-8-sig\")"
   ]
  },
  {
   "cell_type": "markdown",
   "metadata": {},
   "source": [
    "# Part2"
   ]
  },
  {
   "cell_type": "code",
   "execution_count": 4,
   "metadata": {},
   "outputs": [],
   "source": [
    "whole_data=pd.read_csv(\"clean_data.csv\",delimiter=\",\", encoding=\"utf-8-sig\")"
   ]
  },
  {
   "cell_type": "code",
   "execution_count": 5,
   "metadata": {},
   "outputs": [
    {
     "name": "stderr",
     "output_type": "stream",
     "text": [
      "C:\\Users\\ziran\\Anaconda3\\lib\\site-packages\\sklearn\\cross_validation.py:41: DeprecationWarning: This module was deprecated in version 0.18 in favor of the model_selection module into which all the refactored classes and functions are moved. Also note that the interface of the new CV iterators are different from that of this module. This module will be removed in 0.20.\n",
      "  \"This module will be removed in 0.20.\", DeprecationWarning)\n"
     ]
    }
   ],
   "source": [
    "from sklearn.model_selection import train_test_split\n",
    "from sklearn.cross_validation import KFold\n",
    "from sklearn.model_selection import cross_validate\n",
    "from sklearn.svm import SVC\n",
    "from sklearn.naive_bayes import GaussianNB\n",
    "from sklearn.gaussian_process import GaussianProcessClassifier\n",
    "from sklearn.gaussian_process.kernels import RBF\n",
    "from sklearn.neural_network import MLPClassifier"
   ]
  },
  {
   "cell_type": "code",
   "execution_count": 8,
   "metadata": {},
   "outputs": [],
   "source": [
    "#Split the data to training data, validition data and test data\n",
    "X=whole_data.drop('y', axis=1)\n",
    "y=whole_data['y']\n",
    "X_train, X_test, y_train, y_test = train_test_split( X, y, test_size=0.6, random_state=520)"
   ]
  },
  {
   "cell_type": "code",
   "execution_count": 16,
   "metadata": {},
   "outputs": [],
   "source": [
    "#X_train, X_valid, y_train, y_valid = train_test_split( X, y, test_size=0.33, random_state=521)"
   ]
  },
  {
   "cell_type": "code",
   "execution_count": 20,
   "metadata": {},
   "outputs": [],
   "source": [
    "#SVC\n",
    "#https://scikit-learn.org/stable/modules/svm.html"
   ]
  },
  {
   "cell_type": "code",
   "execution_count": 109,
   "metadata": {},
   "outputs": [],
   "source": [
    "clf = SVC(gamma='auto')"
   ]
  },
  {
   "cell_type": "code",
   "execution_count": 110,
   "metadata": {},
   "outputs": [],
   "source": [
    "model_svm=clf.fit(X_train, y_train) "
   ]
  },
  {
   "cell_type": "code",
   "execution_count": 111,
   "metadata": {},
   "outputs": [
    {
     "data": {
      "text/plain": [
       "0.8898480352486288"
      ]
     },
     "execution_count": 111,
     "metadata": {},
     "output_type": "execute_result"
    }
   ],
   "source": [
    "model_svm.score(X_test, y_test) "
   ]
  },
  {
   "cell_type": "code",
   "execution_count": null,
   "metadata": {},
   "outputs": [],
   "source": [
    "#neural network\n",
    "#https://scikit-learn.org/stable/modules/generated/sklearn.neural_network.MLPClassifier.html#sklearn.neural_network.MLPClassifier"
   ]
  },
  {
   "cell_type": "code",
   "execution_count": null,
   "metadata": {},
   "outputs": [],
   "source": [
    "#logistic & 'lbfgs'"
   ]
  },
  {
   "cell_type": "code",
   "execution_count": 44,
   "metadata": {},
   "outputs": [],
   "source": [
    "nn_log=MLPClassifier(activation = 'logistic',solver ='lbfgs', alpha =  0.1, hidden_layer_sizes=(5, 2), random_state=1)"
   ]
  },
  {
   "cell_type": "code",
   "execution_count": 45,
   "metadata": {},
   "outputs": [],
   "source": [
    "model_nn_log=nn_log.fit(X_train, y_train)"
   ]
  },
  {
   "cell_type": "code",
   "execution_count": 46,
   "metadata": {},
   "outputs": [
    {
     "data": {
      "text/plain": [
       "0.9033360309324701"
      ]
     },
     "execution_count": 46,
     "metadata": {},
     "output_type": "execute_result"
    }
   ],
   "source": [
    "model_nn_log.score(X_test, y_test) "
   ]
  },
  {
   "cell_type": "code",
   "execution_count": null,
   "metadata": {},
   "outputs": [],
   "source": [
    "#relu&'adam'"
   ]
  },
  {
   "cell_type": "code",
   "execution_count": 105,
   "metadata": {},
   "outputs": [],
   "source": [
    "nn_log=MLPClassifier(solver ='adam', alpha =  100, hidden_layer_sizes=(3, 2), random_state=1)"
   ]
  },
  {
   "cell_type": "code",
   "execution_count": 106,
   "metadata": {},
   "outputs": [],
   "source": [
    "model_nn_log=nn_log.fit(X_train, y_train)"
   ]
  },
  {
   "cell_type": "code",
   "execution_count": 107,
   "metadata": {},
   "outputs": [
    {
     "data": {
      "text/plain": [
       "0.9073374696520097"
      ]
     },
     "execution_count": 107,
     "metadata": {},
     "output_type": "execute_result"
    }
   ],
   "source": [
    "model_nn_log.score(X_test, y_test) "
   ]
  },
  {
   "cell_type": "markdown",
   "metadata": {},
   "source": [
    "# Part 3"
   ]
  },
  {
   "cell_type": "code",
   "execution_count": null,
   "metadata": {},
   "outputs": [],
   "source": [
    "#https://scikit-learn.org/stable/auto_examples/classification/plot_classifier_comparison.html"
   ]
  },
  {
   "cell_type": "code",
   "execution_count": null,
   "metadata": {},
   "outputs": [],
   "source": [
    "from sklearn.datasets import make_moons, make_circles, make_classification\n",
    "import matplotlib.pyplot as plt\n",
    "from matplotlib.colors import ListedColormap"
   ]
  },
  {
   "cell_type": "code",
   "execution_count": null,
   "metadata": {},
   "outputs": [],
   "source": [
    "h = .02  # step size in the mesh\n",
    "\n",
    "names = [\"RBF SVM\", \"Neural Net 1\", \"Neural Net 1\"]\n",
    "\n",
    "classifiers = [\n",
    "    SVC(gamma='auto'),\n",
    "    MLPClassifier(activation = 'logistic',solver ='lbfgs', alpha =  0.1, hidden_layer_sizes=(5, 2), random_state=1),\n",
    "    MLPClassifier(solver ='adam', alpha =  100, hidden_layer_sizes=(3, 2), random_state=1)\n",
    "   ]\n",
    "\n",
    "X, y = make_classification(n_features=2, n_redundant=0, n_informative=2,\n",
    "                           random_state=1, n_clusters_per_class=1)\n",
    "rng = np.random.RandomState(2)\n",
    "X += 2 * rng.uniform(size=X.shape)\n",
    "linearly_separable = (X, y)\n",
    "\n",
    "datasets = [make_moons(noise=0.3, random_state=0),\n",
    "            make_circles(noise=0.2, factor=0.5, random_state=1),\n",
    "            linearly_separable\n",
    "            ]\n",
    "\n",
    "figure = plt.figure(figsize=(27, 9))\n",
    "i = 1\n",
    "# iterate over datasets\n",
    "for ds_cnt, ds in enumerate(datasets):\n",
    "    # preprocess dataset, split into training and test part\n",
    "    X, y = ds\n",
    "    X = StandardScaler().fit_transform(X)\n",
    "    X_train, X_test, y_train, y_test = \\\n",
    "        train_test_split(X, y, test_size=.4, random_state=42)\n",
    "\n",
    "    x_min, x_max = X[:, 0].min() - .5, X[:, 0].max() + .5\n",
    "    y_min, y_max = X[:, 1].min() - .5, X[:, 1].max() + .5\n",
    "    xx, yy = np.meshgrid(np.arange(x_min, x_max, h),\n",
    "                         np.arange(y_min, y_max, h))\n",
    "\n",
    "    # just plot the dataset first\n",
    "    cm = plt.cm.RdBu\n",
    "    cm_bright = ListedColormap(['#FF0000', '#0000FF'])\n",
    "    ax = plt.subplot(len(datasets), len(classifiers) + 1, i)\n",
    "    if ds_cnt == 0:\n",
    "        ax.set_title(\"Input data\")\n",
    "    # Plot the training points\n",
    "    ax.scatter(X_train[:, 0], X_train[:, 1], c=y_train, cmap=cm_bright,\n",
    "               edgecolors='k')\n",
    "    # Plot the testing points\n",
    "    ax.scatter(X_test[:, 0], X_test[:, 1], c=y_test, cmap=cm_bright, alpha=0.6,\n",
    "               edgecolors='k')\n",
    "    ax.set_xlim(xx.min(), xx.max())\n",
    "    ax.set_ylim(yy.min(), yy.max())\n",
    "    ax.set_xticks(())\n",
    "    ax.set_yticks(())\n",
    "    i += 1\n",
    "\n",
    "    # iterate over classifiers\n",
    "    for name, clf in zip(names, classifiers):\n",
    "        ax = plt.subplot(len(datasets), len(classifiers) + 1, i)\n",
    "        clf.fit(X_train, y_train)\n",
    "        score = clf.score(X_test, y_test)\n",
    "\n",
    "        # Plot the decision boundary. For that, we will assign a color to each\n",
    "        # point in the mesh [x_min, x_max]x[y_min, y_max].\n",
    "        if hasattr(clf, \"decision_function\"):\n",
    "            Z = clf.decision_function(np.c_[xx.ravel(), yy.ravel()])\n",
    "        else:\n",
    "            Z = clf.predict_proba(np.c_[xx.ravel(), yy.ravel()])[:, 1]\n",
    "\n",
    "        # Put the result into a color plot\n",
    "        Z = Z.reshape(xx.shape)\n",
    "        ax.contourf(xx, yy, Z, cmap=cm, alpha=.8)\n",
    "\n",
    "        # Plot the training points\n",
    "        ax.scatter(X_train[:, 0], X_train[:, 1], c=y_train, cmap=cm_bright,\n",
    "                   edgecolors='k')\n",
    "        # Plot the testing points\n",
    "        ax.scatter(X_test[:, 0], X_test[:, 1], c=y_test, cmap=cm_bright,\n",
    "                   edgecolors='k', alpha=0.6)\n",
    "\n",
    "        ax.set_xlim(xx.min(), xx.max())\n",
    "        ax.set_ylim(yy.min(), yy.max())\n",
    "        ax.set_xticks(())\n",
    "        ax.set_yticks(())\n",
    "        if ds_cnt == 0:\n",
    "            ax.set_title(name)\n",
    "        ax.text(xx.max() - .3, yy.min() + .3, ('%.2f' % score).lstrip('0'),\n",
    "                size=15, horizontalalignment='right')\n",
    "        i += 1\n",
    "\n",
    "plt.tight_lay"
   ]
  }
 ],
 "metadata": {
  "kernelspec": {
   "display_name": "Python 3",
   "language": "python",
   "name": "python3"
  },
  "language_info": {
   "codemirror_mode": {
    "name": "ipython",
    "version": 3
   },
   "file_extension": ".py",
   "mimetype": "text/x-python",
   "name": "python",
   "nbconvert_exporter": "python",
   "pygments_lexer": "ipython3",
   "version": "3.6.4"
  }
 },
 "nbformat": 4,
 "nbformat_minor": 2
}
